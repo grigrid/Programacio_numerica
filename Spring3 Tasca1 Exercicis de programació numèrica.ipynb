{
 "cells": [
  {
   "cell_type": "markdown",
   "id": "8f2e1a71",
   "metadata": {},
   "source": [
    "### S3 T01: Exercicis de programació numèrica"
   ]
  },
  {
   "cell_type": "markdown",
   "id": "42441b03",
   "metadata": {},
   "source": [
    "- Exercici 1\n",
    "\n",
    "Crea una funció que donat un Array d’una dimensió, et faci un resum estadístic bàsic de les dades. Si detecta que l’array té més d’una dimensió, ha de mostrar un missatge d’error.\n"
   ]
  },
  {
   "cell_type": "code",
   "execution_count": 4,
   "id": "23503818",
   "metadata": {},
   "outputs": [
    {
     "name": "stdout",
     "output_type": "stream",
     "text": [
      "The total count is: 5\n",
      "The mean valor is: 3.0\n",
      "The median valor is: 3.0\n",
      "The desviation standard ist: 1.4142\n",
      "The minimum valor is: 1\n",
      "The maximum valor is: 5\n",
      "Q 25: 2.0\n",
      "Error: The array should be only one dimension\n"
     ]
    }
   ],
   "source": [
    "import numpy as np\n",
    "\n",
    "arr1=np.array([1,2,3,4,5])\n",
    "arr2=np.array([[1,2],[3,5],[7,2]])\n",
    "\n",
    "def statisticArr (arr):\n",
    "\n",
    "    if arr.ndim > 1:\n",
    "            print(\"Error: The array should be only one dimension\")\n",
    "    else:\n",
    "    \n",
    "        print(\"The total count is:\", len(arr))\n",
    "        print(\"The mean valor is:\", arr.mean())\n",
    "        print(\"The median valor is:\", np.median(arr))\n",
    "        print(\"The desviation standard ist:\", np.std(arr).round(4))\n",
    "        print(\"The minimum valor is:\", arr.min())\n",
    "        print(\"The maximum valor is:\", arr.max())\n",
    "        print(\"Q 25:\",np.percentile(arr,25))\n",
    "\n",
    "statisticArr(arr1)\n",
    "statisticArr(arr2)"
   ]
  },
  {
   "cell_type": "markdown",
   "id": "ea915011",
   "metadata": {},
   "source": [
    "\n",
    "- Exercici 2\n",
    "\n",
    "Crea una funció que et generi un quadrat NxN de nombres aleatoris entre el 0 i el 100.\n"
   ]
  },
  {
   "cell_type": "code",
   "execution_count": 3,
   "id": "858d6ca0",
   "metadata": {},
   "outputs": [
    {
     "name": "stdout",
     "output_type": "stream",
     "text": [
      "[[66 16 57]\n",
      " [25 65 94]\n",
      " [30  0 60]]\n",
      "[[ 36  65  60  66  84  82]\n",
      " [ 21  15  68  61  84  74]\n",
      " [ 79  24  65  27  47  17]\n",
      " [ 55  29  98  88  17  81]\n",
      " [ 91  10  38  41  96  55]\n",
      " [100  54  82  40  97  25]]\n"
     ]
    }
   ],
   "source": [
    "def squareNN(n):\n",
    "    print( np.random.randint(101,size=(n,n)))\n",
    "\n",
    "squareNN(3)\n",
    "squareNN(6)\n"
   ]
  },
  {
   "cell_type": "markdown",
   "id": "f68cb313",
   "metadata": {},
   "source": [
    "- Exercici 3\n",
    "\n",
    "Crea una funció que donada una taula de dues dimensions (NxM), et calculi els totals per fila i els totals per columna."
   ]
  },
  {
   "cell_type": "code",
   "execution_count": 4,
   "id": "2ddaca8e",
   "metadata": {},
   "outputs": [
    {
     "name": "stdout",
     "output_type": "stream",
     "text": [
      "Total of rows: [3 8 9]\n",
      "Total of columns: [11  9]\n"
     ]
    }
   ],
   "source": [
    "def rowColumnsTotal(array): \n",
    "    \n",
    "    if array.ndim!=2:\n",
    "        print(\"Error: The array should be only two dimension\")\n",
    "        \n",
    "    else:\n",
    "        rows=np.sum(array, axis=1)\n",
    "        col=np.sum(array, axis=0)\n",
    "        print(\"Total of rows:\", rows)\n",
    "        print(\"Total of columns:\", col)\n",
    "\n",
    "rowColumnsTotal(arr2)"
   ]
  },
  {
   "cell_type": "markdown",
   "id": "c58c29f4",
   "metadata": {},
   "source": [
    "- Exercici 4\n",
    "\n",
    "Implementa manualment una funció que calculi el coeficient de correlació. Informa-te'n sobre els seus usos i interpretació."
   ]
  },
  {
   "cell_type": "code",
   "execution_count": 24,
   "id": "c8d69f6c",
   "metadata": {},
   "outputs": [
    {
     "name": "stdout",
     "output_type": "stream",
     "text": [
      "1.0000000000000002\n",
      "-0.08935340609020616\n",
      "Error: The dimension should be the same\n",
      "None\n"
     ]
    }
   ],
   "source": [
    "# (cov(X, Y)) / (std(X) * std(Y))\n",
    "\n",
    "from numpy import random\n",
    "\n",
    "X = [1, 2, 3, 4]\n",
    "Y = [4, 5, 6, 7]\n",
    "\n",
    "a = random.randint(100, size = (50))\n",
    "b = random.randint(10, size = (50))\n",
    "c = random.randint(10, size = (10))\n",
    "\n",
    "def coef_Corr (X,Y):\n",
    "    \n",
    "    if len(X) != len(Y):\n",
    "        \n",
    "        print('Error: The dimension should be the same')\n",
    "    else:\n",
    "    \n",
    "        cov = sum ((X[i] - np.mean(X)) * (Y[i] - np.mean(Y)) for i in range(len(X)))/(len(X)-1)\n",
    "\n",
    "        stdX =(np.sum((X-np.mean(X))**2)/(len(X)-1))**(1/2)\n",
    "        stdY =(np.sum((Y-np.mean(Y))**2)/(len(Y)-1))**(1/2)\n",
    "\n",
    "        corr = cov / (stdX * stdY)\n",
    "\n",
    "        return corr\n",
    "\n",
    "print(coef_Corr (X,Y))\n",
    "\n",
    "print(coef_Corr (a,b))\n",
    "\n",
    "print(coef_Corr (a,c))"
   ]
  }
 ],
 "metadata": {
  "kernelspec": {
   "display_name": "Python 3 (ipykernel)",
   "language": "python",
   "name": "python3"
  },
  "language_info": {
   "codemirror_mode": {
    "name": "ipython",
    "version": 3
   },
   "file_extension": ".py",
   "mimetype": "text/x-python",
   "name": "python",
   "nbconvert_exporter": "python",
   "pygments_lexer": "ipython3",
   "version": "3.9.15"
  },
  "toc": {
   "base_numbering": 1,
   "nav_menu": {},
   "number_sections": true,
   "sideBar": true,
   "skip_h1_title": false,
   "title_cell": "Table of Contents",
   "title_sidebar": "Contents",
   "toc_cell": false,
   "toc_position": {},
   "toc_section_display": true,
   "toc_window_display": false
  }
 },
 "nbformat": 4,
 "nbformat_minor": 5
}
